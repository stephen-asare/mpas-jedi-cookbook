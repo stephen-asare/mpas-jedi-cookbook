{
 "cells": [
  {
   "cell_type": "markdown",
   "metadata": {},
   "source": [
    "# MPAS Overview"
   ]
  },
  {
   "cell_type": "markdown",
   "metadata": {},
   "source": [
    "In this first section of the cookbook, we would like to provide an introduction to [**M**odel for **P**rediction **A**cross **S**cales (MPAS)](https://www2.mmm.ucar.edu/projects/mpas/site/index.html). Please note, instead of trying to replicate what has already been made available by the MPAS user and developer community, we will point this this cookrbook's readers to the right direction to access such resources.\n",
    "\n",
    "```{image} images/mpas_logo.png\n",
    ":alt: MPAS logo\n",
    ":width: 200px\n",
    ":align: center\n",
    "```"
   ]
  },
  {
   "cell_type": "markdown",
   "metadata": {},
   "source": [
    "### In this section, you'll not code but learn:\n",
    "\n",
    "* What is MPAS?\n",
    "* Why MPAS?\n",
    "\n",
    "### Related Documentation\n",
    "\n",
    "* [MPAS Homepage](https://www2.mmm.ucar.edu/projects/mpas/site/index.html)\n",
    "* [MPAS Documentation](https://www2.mmm.ucar.edu/projects/mpas/site/documentation.html)\n",
    "* [MPAS Publications](https://www2.mmm.ucar.edu/projects/mpas/site/publications.html)\n",
    "* [MPAS Support Forum](https://forum.mmm.ucar.edu/)\n",
    "\n",
    "### Prerequisites\n",
    "\n",
    "| Concepts | Importance | Notes |\n",
    "| --- | --- | --- |\n",
    "| [Introduction to Unstructured Grids](https://projectpythia.org/unstructured-grid-viz-cookbook/notebooks/foundations/unstructured-grids/) | Helpful  | |\n",
    "\n",
    "**Time to learn**: 10 minutes"
   ]
  },
  {
   "cell_type": "markdown",
   "metadata": {},
   "source": [
    "---"
   ]
  },
  {
   "cell_type": "markdown",
   "metadata": {},
   "source": [
    "## What is MPAS?"
   ]
  },
  {
   "cell_type": "markdown",
   "metadata": {},
   "source": [
    "The Model for Prediction Across Scales (MPAS) is a collaborative project for developing atmosphere, ocean and other earth-system simulation components for use in climate, regional climate and weather studies. \n",
    "\n",
    "The defining features of MPAS are the unstructured [Voronoi meshes](https://public.lanl.gov/ringler/Voronoi.html) and [C-grid](https://mpas-dev.github.io/files/graphics/cgrid.pdf) discretization used as the basis for many of the model components. The unstructured Voronoi meshes, formally Spherical Centriodal Voronoi Tesselations (SCVTs), allow for both quasi-uniform discretization of the sphere and local refinement. The C-grid discretization, where the normal component of velocity on cell edges is prognosed, is especially well-suited for higher-resolution, mesoscale atmosphere and ocean simulations. \n",
    "\n",
    "The land ice model takes advantage of the SCVT-dual mesh, which is a triangular Delaunay tessellation appropriate for use with Finite-Element-based discretizations.\n",
    "\n",
    "Be sure to check out the [MPAS home page](https://www2.mmm.ucar.edu/projects/mpas/site/index.html) and the References at the end of this section for further details.\n",
    "\n",
    "```{image} https://mpas-dev.github.io/atmosphere/MPAS-var-res_mesh.png\n",
    ":alt: MPAS\n",
    ":width: 50%\n",
    ":align: left\n",
    "```\n",
    "\n",
    "```{image} ./images/mpas-c-grid.png\n",
    ":alt: MPAS C-grid\n",
    ":width: 50%\n",
    ":align: right\n",
    "```\n",
    "\n",
    "**Image credit**: https://mpas-dev.github.io/atmosphere/atmosphere.html"
   ]
  },
  {
   "cell_type": "markdown",
   "metadata": {},
   "source": [
    "## Why MPAS?"
   ]
  },
  {
   "cell_type": "markdown",
   "metadata": {},
   "source": [
    "The key features of MPAS are:\n",
    "\n",
    "* Suitability for global and regional analysis\n",
    "* Applicability to weather and climate research\n",
    "* Variable resolution\n",
    "* Scalability"
   ]
  },
  {
   "cell_type": "markdown",
   "metadata": {},
   "source": [
    "## References\n",
    "\n",
    "[MPAS Mesh Specification Version 1.0, 2015](https://www2.mmm.ucar.edu/projects/mpas/mpas_website_linked_files/mpas_meshspec.pdf)"
   ]
  },
  {
   "cell_type": "markdown",
   "metadata": {},
   "source": [
    "## What is next?\n",
    "\n",
    "The [next section](overview-jedi) will provide an overview of the The Joint Effort for Data assimilation (JEDI)."
   ]
  }
 ],
 "metadata": {
  "kernelspec": {
   "display_name": "Python 3 (ipykernel)",
   "language": "python",
   "name": "python3"
  },
  "language_info": {
   "codemirror_mode": {
    "name": "ipython",
    "version": 3
   },
   "file_extension": ".py",
   "mimetype": "text/x-python",
   "name": "python",
   "nbconvert_exporter": "python",
   "pygments_lexer": "ipython3",
   "version": "3.11.11"
  },
  "nbdime-conflicts": {
   "local_diff": [
    {
     "diff": [
      {
       "diff": [
        {
         "key": 0,
         "op": "addrange",
         "valuelist": [
          "Python 3"
         ]
        },
        {
         "key": 0,
         "length": 1,
         "op": "removerange"
        }
       ],
       "key": "display_name",
       "op": "patch"
      }
     ],
     "key": "kernelspec",
     "op": "patch"
    }
   ],
   "remote_diff": [
    {
     "diff": [
      {
       "diff": [
        {
         "key": 0,
         "op": "addrange",
         "valuelist": [
          "Python3"
         ]
        },
        {
         "key": 0,
         "length": 1,
         "op": "removerange"
        }
       ],
       "key": "display_name",
       "op": "patch"
      }
     ],
     "key": "kernelspec",
     "op": "patch"
    }
   ]
  },
  "toc-autonumbering": false
 },
 "nbformat": 4,
 "nbformat_minor": 4
}
