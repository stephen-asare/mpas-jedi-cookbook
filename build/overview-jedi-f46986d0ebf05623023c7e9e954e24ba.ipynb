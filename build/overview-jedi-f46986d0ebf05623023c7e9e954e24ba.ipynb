{
 "cells": [
  {
   "cell_type": "markdown",
   "id": "d42403d2-1f38-40d8-8a16-bce3c99b59f8",
   "metadata": {},
   "source": [
    "# JEDI Overview"
   ]
  },
  {
   "cell_type": "markdown",
   "id": "c4291d90-50a8-48b4-a763-7ece16499cdb",
   "metadata": {},
   "source": [
    "```{image} images/jedi-mpas.png\n",
    ":alt: JEDI\n",
    ":width: 400px\n",
    ":align: center\n",
    "```\n",
    "\n",
    "### In this section, you'll learn:\n",
    "\n",
    "* What's JEDI?\n",
    "\n",
    "### Related Documentation\n",
    "\n",
    "* [JEDI documentation](https://jointcenterforsatellitedataassimilation-jedi-docs.readthedocs-hosted.com/en/latest/))\n",
    "* \n",
    "\n",
    "### Prerequisites\n",
    "\n",
    "| Concepts | Importance | Notes |\n",
    "| --- | --- | --- |\n",
    "| Data Assimilation | Helpful  | |\n",
    "| JEDI | Helpful  | |\n",
    "\n",
    "**Time to learn**: 5 minutes\n",
    "\n",
    "-----"
   ]
  },
  {
   "cell_type": "markdown",
   "id": "09a1df50-0e21-4ec2-874e-4e8b4b72d2bb",
   "metadata": {},
   "source": [
    "The following introduction is adapted from the JEDI documentation (https://jointcenterforsatellitedataassimilation-jedi-docs.readthedocs-hosted.com/en/latest/)."
   ]
  },
  {
   "cell_type": "markdown",
   "id": "268fa50b-0547-4cbe-a550-247338c5dcc8",
   "metadata": {},
   "source": [
    "Joint Effort for Data assimilation Integration (JEDI) is a unified and versatile data assimilation (DA) system for Earth System Prediction. The JEDI software package can be run on a variety of platforms from laptops to supercomputers, for a variety of purposes, from teaching and learning DA fundamentals to the development and validation of new DA algorithms and observational operators, to leading-edge atmospheric and oceanic research, to operational weather forecasting. It is designed to readily accommodate new atmospheric and oceanic models and new observation systems."
   ]
  },
  {
   "cell_type": "markdown",
   "id": "816212be-f4ba-4ca5-927e-b53ed32f750b",
   "metadata": {},
   "source": [
    "JEDI is developed and distributed by the Joint Center for Satellite Data Assimilation (JCSDA, https://www.jcsda.org/) , a multi-agency research center hosted by the University Corporation for Atmospheric Research (UCAR, https://www.ucar.edu/). JCSDA is dedicated to improving and accelerating the quantitative use of research and operational satellite data in weather, ocean, climate and environmental analysis and prediction systems."
   ]
  },
  {
   "cell_type": "markdown",
   "id": "a9e204cd-95a9-4128-932c-2a8e982168ec",
   "metadata": {},
   "source": [
    "Readers are recommended to check the above JEDI Documentation for more details."
   ]
  }
 ],
 "metadata": {
  "kernelspec": {
   "display_name": "Python 3 (ipykernel)",
   "language": "python",
   "name": "python3"
  },
  "language_info": {
   "codemirror_mode": {
    "name": "ipython",
    "version": 3
   },
   "file_extension": ".py",
   "mimetype": "text/x-python",
   "name": "python",
   "nbconvert_exporter": "python",
   "pygments_lexer": "ipython3",
   "version": "3.11.11"
  }
 },
 "nbformat": 4,
 "nbformat_minor": 5
}
