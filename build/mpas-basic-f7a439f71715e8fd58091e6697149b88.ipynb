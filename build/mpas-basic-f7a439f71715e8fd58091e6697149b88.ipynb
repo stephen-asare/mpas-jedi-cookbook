{
 "cells": [
  {
   "cell_type": "markdown",
   "id": "d42403d2-1f38-40d8-8a16-bce3c99b59f8",
   "metadata": {},
   "source": [
    "# Basic MPAS Analysis & Visualization with UXarray"
   ]
  },
  {
   "cell_type": "markdown",
   "id": "c4291d90-50a8-48b4-a763-7ece16499cdb",
   "metadata": {},
   "source": [
    "\n",
    "### In this section, you'll learn:\n",
    "\n",
    "* How to interact with MPAS data: retrieving, subsetting and storing data\n",
    "* How to visualize horizontal data, i.e. data from a single vertical level\n",
    "\n",
    "### Related Documentation\n",
    "\n",
    "* [UxDataset Data Structure](https://uxarray.readthedocs.io/en/latest/generated/uxarray.UxDataset.html#uxarray.UxDataset)\n",
    "* \n",
    "\n",
    "### Prerequisites\n",
    "\n",
    "| Concepts | Importance |\n",
    "| --- | --- |\n",
    "| [UXarray](https://uxarray.readthedocs.io/en/latest/) | Necessary  |\n",
    "| [Unstructured Grid](https://projectpythia.org/unstructured-grid-viz-cookbook/) | Helpful  |\n",
    "\n",
    "**Time to learn**: 15 minutes\n",
    "\n",
    "-----"
   ]
  },
  {
   "cell_type": "markdown",
   "id": "45ab765a-e1ea-4fe3-ab57-5c51179d6e7b",
   "metadata": {},
   "source": [
    "## Import packages\n",
    "\n",
    "We use Cartopy, GeoViews, Holoviews and Matplotlib packages for visualization. Xarray, UXarray, NumPy and GeoPandas are used for the data structures we use to represent and manipulate the data."
   ]
  },
  {
   "cell_type": "code",
   "execution_count": null,
   "id": "e5786447-ca78-45ed-be6e-fc43fcce58b3",
   "metadata": {},
   "outputs": [],
   "source": [
    "# autoload external python modules if they changed\n",
    "%load_ext autoreload\n",
    "%autoreload 2\n",
    "\n",
    "# add ../funcs to the current path\n",
    "import sys, os\n",
    "sys.path.append(os.path.join(os.getcwd(), \"..\")) \n",
    "\n",
    "# import modules\n",
    "import warnings\n",
    "import math\n",
    "\n",
    "import cartopy.crs as ccrs\n",
    "import geoviews as gv\n",
    "import geoviews.feature as gf\n",
    "import holoviews as hv\n",
    "import hvplot.xarray\n",
    "from holoviews import opts\n",
    "import matplotlib.pyplot as plt\n",
    "\n",
    "import s3fs\n",
    "\n",
    "import geopandas as gp\n",
    "import numpy as np\n",
    "import uxarray as ux\n",
    "import xarray as xr"
   ]
  },
  {
   "cell_type": "markdown",
   "id": "f32c3d97-ce8b-49be-9d63-ff0c133105fe",
   "metadata": {},
   "source": [
    "## Retrieving the state border lines and coastlines"
   ]
  },
  {
   "cell_type": "code",
   "execution_count": null,
   "id": "9b53978d-31c4-4de2-a2a3-bf3a95dbe74b",
   "metadata": {},
   "outputs": [],
   "source": [
    "coast_lines = gf.coastline(projection=ccrs.PlateCarree(), line_width=1, scale=\"50m\")\n",
    "state_lines = gf.states(projection=ccrs.PlateCarree(), line_width=1, line_color='gray', scale=\"50m\")"
   ]
  },
  {
   "cell_type": "markdown",
   "id": "7e3dc6e4-05b4-4c94-b046-29560ec0375c",
   "metadata": {},
   "source": [
    "## Helper functions\n",
    "\n",
    "The following functions are used for visualizing the data. The `horizontal_contour` function generates the contour map for a given slice of data."
   ]
  },
  {
   "cell_type": "code",
   "execution_count": null,
   "id": "784472d9-2439-49e9-8e20-82859442b884",
   "metadata": {},
   "outputs": [],
   "source": [
    "# Generates a contour plot for a horizontal slice\n",
    "def horizontal_contour(ux_hslice, title, cmin=None, cmax=None, width=800, height=500, clevs=20, cmap=\"coolwarm\", symmetric_cmap=False):\n",
    "\n",
    "    # Get min and max\n",
    "    amin = ux_hslice.min().item()\n",
    "    amax = ux_hslice.max().item()\n",
    "    \n",
    "    cmin = math.floor(amin) if(cmin is None) else cmin\n",
    "    cmax = math.ceil(amax) if(cmax is None) else cmax\n",
    "    \n",
    "    if symmetric_cmap:  # get a symmetric color map when cmin < 0, cmax >0\n",
    "        cmax = max(abs(cmin), cmax)\n",
    "        cmin = -cmax\n",
    "\n",
    "    if isinstance(cmap, str):\n",
    "        cmap = plt.get_cmap(cmap)\n",
    "\n",
    "    # Generate contour plot\n",
    "    title = f\" min={amin:.1f} max={amax:.1f}\"\n",
    "    \n",
    "    contour_plot = hv.operation.contours(\n",
    "        ux_hslice.plot(),\n",
    "        levels=np.linspace(cmin, cmax, num=clevs),  # levels=np.arange(cmin, cmax, 0.5)\n",
    "        filled=True\n",
    "    ).opts(\n",
    "        line_color=None,  # line_width=0.001\n",
    "        width=width, height=height,\n",
    "        cmap='coolwarm', clim=(cmin, cmax),\n",
    "        colorbar=True, show_legend=False,\n",
    "        tools=['hover'], title=title\n",
    "    )\n",
    "\n",
    "    return contour_plot"
   ]
  },
  {
   "cell_type": "markdown",
   "id": "9f829136-849e-4272-a13f-2a7071346939",
   "metadata": {},
   "source": [
    "## Retrieve/load  MPAS/JEDI data\n",
    "The example MPAS/JEDI data are stored at [jetstream2](https://par.nsf.gov/biblio/10296117-jetstream2-accelerating-cloud-computing-via-jetstream). We need to retreive those data first. There are two ways to retrieve MPAS data:\n",
    "1. Download all example data from JetStream2 to local and them load them locally. This approach allows downloading the data once per machine and reuse it in notebooks.\n",
    "2. Stream the JetStream2 S3 objects on demand. In this case, each notebook (including restarting a notebook) will retrieve the required data separately as needed."
   ]
  },
  {
   "cell_type": "code",
   "execution_count": null,
   "id": "14838043-77b7-4b66-9c4e-1e69f6b9047c",
   "metadata": {},
   "outputs": [],
   "source": [
    "# choose the data_load_method, check the above cell for details. Default to method 2; choose 1 if running from you own machine.\n",
    "data_load_method = 2  # 1 or 2"
   ]
  },
  {
   "cell_type": "markdown",
   "id": "78e39945-5f20-4123-b5fd-f57726fc15a3",
   "metadata": {},
   "source": [
    "### Method 1: Download all example data once and reuse it in mulptile notebooks"
   ]
  },
  {
   "cell_type": "code",
   "execution_count": null,
   "id": "ee7b7d9f-8c00-4329-97b9-7c1e87f71042",
   "metadata": {},
   "outputs": [],
   "source": [
    "%%time\n",
    "local_dir=\"/tmp\"\n",
    "\n",
    "if data_load_method == 1 and not os.path.exists(local_dir + \"/conus12km/bkg/mpasout.2024-05-06_01.00.00.nc\"):\n",
    "    jetstream_url = 'https://js2.jetstream-cloud.org:8001/'\n",
    "    fs = s3fs.S3FileSystem(anon=True, asynchronous=False,client_kwargs=dict(endpoint_url=jetstream_url))\n",
    "    conus12_path = 's3://pythia/mpas/conus12km'\n",
    "    fs.get(conus12_path, local_dir, recursive=True)\n",
    "    print(\"Data downloading completed\")\n",
    "else:\n",
    "    print(\"Skip..., either data is available in local or data_load_method is NOT 1\")"
   ]
  },
  {
   "cell_type": "code",
   "execution_count": null,
   "id": "dffde994-d1ce-4309-95e8-1f1da25315e0",
   "metadata": {},
   "outputs": [],
   "source": [
    "# Set file path\n",
    "if data_load_method == 1:\n",
    "    grid_file = local_dir + \"/conus12km/conus12km.invariant.nc_L60_GFS\"\n",
    "    ana_file = local_dir + \"/conus12km/bkg/mpasout.2024-05-06_01.00.00.nc\"\n",
    "    bkg_file = local_dir + \"/conus12km/ana/mpasout.2024-05-06_01.00.00.nc\"\n",
    "    # jdiag_file = local_dir + \"/conus12km/jdiag_aircar_t133.nc\"  #q133.nc or uv233.nc"
   ]
  },
  {
   "cell_type": "markdown",
   "id": "7c78c221-d5ec-4615-9e79-5d04ab6da936",
   "metadata": {},
   "source": [
    "### Method 2: Stream the JetStream2 S3 objects on demand"
   ]
  },
  {
   "cell_type": "code",
   "execution_count": null,
   "id": "75bd8310-f6f1-4e4d-9cc2-c1f715c6e6cf",
   "metadata": {},
   "outputs": [],
   "source": [
    "%%time\n",
    "if data_load_method == 2:\n",
    "    jetstream_url = 'https://js2.jetstream-cloud.org:8001/'\n",
    "    fs = s3fs.S3FileSystem(anon=True, asynchronous=False,client_kwargs=dict(endpoint_url=jetstream_url))\n",
    "    conus12_path = 's3://pythia/mpas/conus12km'\n",
    "    \n",
    "    grid_url=f\"{conus12_path}/conus12km.invariant.nc_L60_GFS\"\n",
    "    bkg_url=f\"{conus12_path}/bkg/mpasout.2024-05-06_01.00.00.nc\"\n",
    "    ana_url=f\"{conus12_path}/ana/mpasout.2024-05-06_01.00.00.nc\"\n",
    "    # jdiag_url=f\"{conus12_path}/jdiag_aircar_t133.nc\"\n",
    "    \n",
    "    grid_file = fs.open(grid_url)\n",
    "    ana_file = fs.open(ana_url)\n",
    "    bkg_file = fs.open(bkg_url)\n",
    "    # jdiag_file = fs.open(jdiag_url)\n",
    "else:\n",
    "    print(\"Skip..., data_load_method is NOT 2\")"
   ]
  },
  {
   "cell_type": "markdown",
   "id": "21553ae5-4686-4f12-8fa8-e31d359f2156",
   "metadata": {},
   "source": [
    "### Loading the data into UXarray datasets\n",
    "\n",
    "We use the UXarray data structures to work with the data. This package supports data defined over unstructured grid and provides utilities for modifying and visualizing it. The available functionality are discussed in [`UxDataset` documentation](https://uxarray.readthedocs.io/en/latest/generated/uxarray.UxDataset.html#uxarray.UxDataset)."
   ]
  },
  {
   "cell_type": "markdown",
   "id": "c1a23e89-5016-4af1-8d41-b9637e091455",
   "metadata": {},
   "source": [
    ":::{warning}\n",
    "Depending on the network conditions, loading the data can take a few minutes.\n",
    ":::"
   ]
  },
  {
   "cell_type": "code",
   "execution_count": null,
   "id": "f629cbc1-9f14-41f6-b41e-179a0724fc70",
   "metadata": {},
   "outputs": [],
   "source": [
    "uxds = ux.open_dataset(grid_file, bkg_file)"
   ]
  },
  {
   "cell_type": "markdown",
   "id": "0c49ff2c-6a5d-46f9-ab3a-e33f02101954",
   "metadata": {},
   "source": [
    "## Regional temperature contour"
   ]
  },
  {
   "cell_type": "markdown",
   "id": "9ca5cb63-17db-4c31-bc03-75da72ff867f",
   "metadata": {},
   "source": [
    "We use the `theta` (potential temperature) variable from this dataset, which has a `(Time, n_face, nVertLevels)`, i.e. `Time * Number of grid faces * Number of vertical levels` dimensionality to have a look at a regional, horizontal plot."
   ]
  },
  {
   "cell_type": "code",
   "execution_count": null,
   "id": "cf654237-7bda-4c08-9dda-413e9a159a06",
   "metadata": {},
   "outputs": [],
   "source": [
    "uxvar = uxds['theta'] - 273.15   ## Kelvin to Celsius"
   ]
  },
  {
   "cell_type": "markdown",
   "id": "3272fe80-0e8a-458e-891e-4880271aee7f",
   "metadata": {},
   "source": [
    "The data has multiple vertical levels, representing the values for different elevations. In this section, we are focusing on a single level. Next, we are plotting the contour of `theta` values in the data for this fixed level."
   ]
  },
  {
   "cell_type": "code",
   "execution_count": null,
   "id": "7d2e7583-db70-4c47-8c90-6fbaa248dcfb",
   "metadata": {},
   "outputs": [],
   "source": [
    "i_lev = 0   # `nVertLevels` index, for picking the 0th level\n",
    "i_time = 0  # `Time` index\n",
    "lat_val, long_val = 42.63, -83.3 # The latitude and longitude levels we will use in the next section\n",
    "lat_line_lims, long_line_lims = [-135, -60], [20, 55] # limits for the cross-section lines\n",
    "plot_x_lims, plot_y_lims = (-140, -55), (15,60) # limits for the plot\n",
    "\n",
    "plot = horizontal_contour(uxvar.isel(Time=0, nVertLevels=i_lev), title=f'Contour plot for potential temperature over a region at vertical level 0') #, symmetric_cmap=True)\n",
    "lat_line = hv.Curve((lat_line_lims, [lat_val, lat_val]))\n",
    "long_line = hv.Curve(([long_val, long_val], long_line_lims))\n",
    "overlay = (plot * coast_lines * state_lines * lat_line * long_line).redim.range(x=plot_x_lims, y=plot_y_lims)\n",
    "overlay.opts(\n",
    "    opts.Curve(color='black', line_width=3)\n",
    ")"
   ]
  },
  {
   "cell_type": "markdown",
   "id": "a2a30770-4c52-4e80-a845-7f6e1c561409",
   "metadata": {},
   "source": [
    ":::{note}\n",
    "In the next section, we will work on processing multiple vertical levels via cross-sections. The vertical black lines on the map show the latitude and longitude values we will take the vertical slices over in those exercises.\n",
    ":::"
   ]
  }
 ],
 "metadata": {
  "kernelspec": {
   "display_name": "Python 3 (ipykernel)",
   "language": "python",
   "name": "python3"
  },
  "language_info": {
   "codemirror_mode": {
    "name": "ipython",
    "version": 3
   },
   "file_extension": ".py",
   "mimetype": "text/x-python",
   "name": "python",
   "nbconvert_exporter": "python",
   "pygments_lexer": "ipython3",
   "version": "3.11.13"
  }
 },
 "nbformat": 4,
 "nbformat_minor": 5
}
