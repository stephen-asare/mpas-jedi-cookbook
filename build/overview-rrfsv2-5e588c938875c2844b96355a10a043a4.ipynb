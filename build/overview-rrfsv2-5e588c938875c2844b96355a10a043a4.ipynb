{
 "cells": [
  {
   "cell_type": "markdown",
   "id": "d42403d2-1f38-40d8-8a16-bce3c99b59f8",
   "metadata": {},
   "source": [
    "# RRFSv2 Overview"
   ]
  },
  {
   "cell_type": "markdown",
   "id": "c4291d90-50a8-48b4-a763-7ece16499cdb",
   "metadata": {},
   "source": [
    "```{image} images/rrfsv2.png\n",
    ":alt: RRFSv2\n",
    ":width: 400px\n",
    ":align: center\n",
    "```\n",
    "\n",
    "### In this section, you'll learn:\n",
    "\n",
    "* What's RRFS(v2)?\n",
    "* What's RDASApp?\n",
    "* What's rrfs-workflow?\n",
    "\n",
    "### Related Documentation\n",
    "\n",
    "* [rrfs-workflow](https://github.com/NOAA-EMC/rrfs-workflow)\n",
    "* [RDASApp](https://github.com/NOAA-EMC/RDASApp)\n",
    "* [rrfs-workflow in depth (slides)](https://docs.google.com/presentation/d/1HPx2LzX8Hf9Imztl4OpyXdyTTWoN4hBOId4AP7bhyYM/edit?slide=id.g330660abd74_0_6#slide=id.g330660abd74_0_6)(request access if you are not able to view the slides)\n",
    "\n",
    "### Prerequisites\n",
    "\n",
    "| Concepts | Importance | Notes |\n",
    "| --- | --- | --- |\n",
    "| data assimilation | Helpful  | |\n",
    "| Research to Operation | Helpful  | |\n",
    "\n",
    "**Time to learn**: 5 minutes\n",
    "\n",
    "-----"
   ]
  },
  {
   "cell_type": "markdown",
   "id": "89288754-a79f-457f-9370-d961695d2969",
   "metadata": {},
   "source": [
    "NOAA has been developing the Rapid Refresh Forecast System (RRFS) to provide high-resolution, rapidly updating weather forecasts. The first version of RRFS is built on [the FV3 model](https://www.gfdl.noaa.gov/fv3/)) and the Gridpoint Statistical Interpolation (GSI) data assimilation system ([GSI info](https://dtcenter.org/sites/default/files/GSIUserGuide_v3.7_0.pdf)). The next-generation RRFS, known as RRFSv2, adopts the MPAS model and the JEDI data assimilation framework. Development of RRFSv2 is a collaborative effort between NOAA’s Global Systems Laboratory ([GSL](https://gsl.noaa.gov/)) and NOAA’s Environmental Modeling Center ([EMC](https://www.emc.ncep.noaa.gov/emc.php)), with the goal of operational deployment around 2028 or 2029.\n",
    "\n",
    "RRFSv2 convers a regional domain with a special resolution of around 3km. The MPAS model has being enhanced with GSL/UFS physics ([link to the UFS MPAS](https://github.com/ufs-community/MPAS-Model)) to improve forecast performance. To support RRFSv2’s unique requirements, a specialized proxy application—[RDASApp](https://github.com/NOAA-EMC/RDASApp/)—has been developed. RDASApp configures and integrates JEDI components, providing the executables and tools needed to perform RRFSv2 data assimilation cycles. \n",
    "\n",
    "To streamline reasearh and development testing as well as operational implmentation, an operation-oriented, community flexible end-to-end workflow, [rrfs-workflow](https://github.com/NOAA-EMC/rrfs-workflow/tree/rrfs-mpas-jedi) has been developed. rrfs-workflow enables both real-time and restrospective RRFSv2 experiments, accelerating the Research to Operation (R2O) transition and fostering collaborations between research and operation.\n"
   ]
  }
 ],
 "metadata": {
  "kernelspec": {
   "display_name": "Python 3 (ipykernel)",
   "language": "python",
   "name": "python3"
  },
  "language_info": {
   "codemirror_mode": {
    "name": "ipython",
    "version": 3
   },
   "file_extension": ".py",
   "mimetype": "text/x-python",
   "name": "python",
   "nbconvert_exporter": "python",
   "pygments_lexer": "ipython3",
   "version": "3.11.11"
  }
 },
 "nbformat": 4,
 "nbformat_minor": 5
}
